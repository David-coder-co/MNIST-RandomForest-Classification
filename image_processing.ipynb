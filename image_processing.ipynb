{
 "cells": [
  {
   "cell_type": "code",
   "execution_count": 1,
   "metadata": {},
   "outputs": [],
   "source": [
    "import scipy.io\n",
    "import numpy as np\n",
    "import matplotlib.pyplot as plt"
   ]
  },
  {
   "cell_type": "code",
   "execution_count": null,
   "metadata": {},
   "outputs": [],
   "source": [
    "# load our dataset\n",
    "train_data = scipy.io.loadmat('extra_32x32.mat')\n",
    "# extract the images and labels from the dictionary object\n",
    "X = train_data['X']\n",
    "y = train_data['y']\n",
    "# Reshape data to have samples in first dimension\n",
    "X = X.reshape(-1, 32, 32, 3)\n",
    "# view an image (e.g. 25) and print its corresponding label\n",
    "img_index = 25\n",
    "plt.imshow(X[img_index,...])\n",
    "plt.savefig(\"img.png\")\n",
    "print(y[img_index])\n",
    "# Flatten to have two dimensions\n",
    "X = X.reshape(-1, 32 * 32 * 3)\n"
   ]
  },
  {
   "cell_type": "code",
   "execution_count": null,
   "metadata": {},
   "outputs": [],
   "source": [
    "from sklearn.ensemble import RandomForestClassifier\n",
    "clf = RandomForestClassifier()\n",
    "print(clf)\n"
   ]
  },
  {
   "cell_type": "code",
   "execution_count": null,
   "metadata": {},
   "outputs": [],
   "source": [
    "RandomForestClassifier(bootstrap=True, class_weight=None,\n",
    "criterion='gini', max_depth=None, max_features='auto', max_leaf_nodes=None,\n",
    "min_impurity_decrease=1e-07, min_samples_leaf=1, min_samples_split=2,\n",
    "min_weight_fraction_leaf=0.0, n_estimators=10, n_jobs=1, oob_score=False,\n",
    "random_state=None, verbose=0, warm_start=False)\n"
   ]
  },
  {
   "cell_type": "code",
   "execution_count": null,
   "metadata": {},
   "outputs": [],
   "source": [
    "from sklearn.model_selection import train_test_split\n",
    "\n",
    "X_train, X_test, y_train, y_test = train_test_split(X, y, test_size=0.2,\n",
    "random_state = 42 )\n",
    "clf.fit(X_train, y_train)\n"
   ]
  }
 ],
 "metadata": {
  "kernelspec": {
   "display_name": "Python 3",
   "language": "python",
   "name": "python3"
  },
  "language_info": {
   "codemirror_mode": {
    "name": "ipython",
    "version": 3
   },
   "file_extension": ".py",
   "mimetype": "text/x-python",
   "name": "python",
   "nbconvert_exporter": "python",
   "pygments_lexer": "ipython3",
   "version": "3.12.4"
  }
 },
 "nbformat": 4,
 "nbformat_minor": 2
}
